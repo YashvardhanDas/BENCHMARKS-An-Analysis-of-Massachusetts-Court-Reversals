{
 "cells": [
  {
   "cell_type": "code",
   "execution_count": 1,
   "metadata": {},
   "outputs": [],
   "source": [
    "import numpy as np \n",
    "import pandas as pd \n",
    "import matplotlib.pyplot as plt \n",
    "from sklearn.preprocessing import LabelEncoder"
   ]
  },
  {
   "cell_type": "code",
   "execution_count": 4,
   "metadata": {},
   "outputs": [],
   "source": [
    "appeal_draft = pd.read_csv('Opinions_data/appeal_draft.csv')\n",
    "sjc_draft = pd.read_csv('Opinions_data/sjc_draft.csv')"
   ]
  },
  {
   "cell_type": "code",
   "execution_count": 5,
   "metadata": {},
   "outputs": [
    {
     "data": {
      "text/html": [
       "<div>\n",
       "<style scoped>\n",
       "    .dataframe tbody tr th:only-of-type {\n",
       "        vertical-align: middle;\n",
       "    }\n",
       "\n",
       "    .dataframe tbody tr th {\n",
       "        vertical-align: top;\n",
       "    }\n",
       "\n",
       "    .dataframe thead th {\n",
       "        text-align: right;\n",
       "    }\n",
       "</style>\n",
       "<table border=\"1\" class=\"dataframe\">\n",
       "  <thead>\n",
       "    <tr style=\"text-align: right;\">\n",
       "      <th></th>\n",
       "      <th>cases</th>\n",
       "      <th>headnote</th>\n",
       "      <th>text</th>\n",
       "      <th>type</th>\n",
       "    </tr>\n",
       "  </thead>\n",
       "  <tbody>\n",
       "    <tr>\n",
       "      <th>0</th>\n",
       "      <td>commonwealth  vs.  admilson resende.</td>\n",
       "      <td>controlled substances. constitutional law, ple...</td>\n",
       "      <td>the present case is the most recent in a serie...</td>\n",
       "      <td>criminal</td>\n",
       "    </tr>\n",
       "    <tr>\n",
       "      <th>1</th>\n",
       "      <td>commonwealth  vs.  george philbrook.</td>\n",
       "      <td>homicide. evidence, prior violent conduct, sta...</td>\n",
       "      <td>the defendant was convicted of murder in the f...</td>\n",
       "      <td>criminal</td>\n",
       "    </tr>\n",
       "    <tr>\n",
       "      <th>2</th>\n",
       "      <td>linda s. bowers  vs.  p. wile's, inc.</td>\n",
       "      <td>negligence, retailer. notice. practice, civil,...</td>\n",
       "      <td>in this case we are called upon to determine w...</td>\n",
       "      <td>civil</td>\n",
       "    </tr>\n",
       "    <tr>\n",
       "      <th>3</th>\n",
       "      <td>commonwealth  vs.  jared abdallah.</td>\n",
       "      <td>constitutional law, search and seizure. search...</td>\n",
       "      <td>after causing a disturbance, the defendant was...</td>\n",
       "      <td>criminal</td>\n",
       "    </tr>\n",
       "    <tr>\n",
       "      <th>4</th>\n",
       "      <td>commonwealth  vs.  robert d. wade.</td>\n",
       "      <td>amended october 28, 2016deoxyribonucleic acid....</td>\n",
       "      <td>this case requires us to decide whether the pe...</td>\n",
       "      <td>criminal</td>\n",
       "    </tr>\n",
       "  </tbody>\n",
       "</table>\n",
       "</div>"
      ],
      "text/plain": [
       "                                   cases  \\\n",
       "0   commonwealth  vs.  admilson resende.   \n",
       "1   commonwealth  vs.  george philbrook.   \n",
       "2  linda s. bowers  vs.  p. wile's, inc.   \n",
       "3     commonwealth  vs.  jared abdallah.   \n",
       "4     commonwealth  vs.  robert d. wade.   \n",
       "\n",
       "                                            headnote  \\\n",
       "0  controlled substances. constitutional law, ple...   \n",
       "1  homicide. evidence, prior violent conduct, sta...   \n",
       "2  negligence, retailer. notice. practice, civil,...   \n",
       "3  constitutional law, search and seizure. search...   \n",
       "4  amended october 28, 2016deoxyribonucleic acid....   \n",
       "\n",
       "                                                text      type  \n",
       "0  the present case is the most recent in a serie...  criminal  \n",
       "1  the defendant was convicted of murder in the f...  criminal  \n",
       "2  in this case we are called upon to determine w...     civil  \n",
       "3  after causing a disturbance, the defendant was...  criminal  \n",
       "4  this case requires us to decide whether the pe...  criminal  "
      ]
     },
     "execution_count": 5,
     "metadata": {},
     "output_type": "execute_result"
    }
   ],
   "source": [
    "appeal_draft.head()"
   ]
  },
  {
   "cell_type": "code",
   "execution_count": 6,
   "metadata": {},
   "outputs": [
    {
     "data": {
      "text/html": [
       "<div>\n",
       "<style scoped>\n",
       "    .dataframe tbody tr th:only-of-type {\n",
       "        vertical-align: middle;\n",
       "    }\n",
       "\n",
       "    .dataframe tbody tr th {\n",
       "        vertical-align: top;\n",
       "    }\n",
       "\n",
       "    .dataframe thead th {\n",
       "        text-align: right;\n",
       "    }\n",
       "</style>\n",
       "<table border=\"1\" class=\"dataframe\">\n",
       "  <thead>\n",
       "    <tr style=\"text-align: right;\">\n",
       "      <th></th>\n",
       "      <th>cases</th>\n",
       "      <th>headnote</th>\n",
       "      <th>text</th>\n",
       "      <th>type</th>\n",
       "      <th>caseid</th>\n",
       "    </tr>\n",
       "  </thead>\n",
       "  <tbody>\n",
       "    <tr>\n",
       "      <th>0</th>\n",
       "      <td>commonwealth  vs.  admilson resende.</td>\n",
       "      <td>controlled substances. constitutional law, ple...</td>\n",
       "      <td>the present case is the most recent in a serie...</td>\n",
       "      <td>criminal</td>\n",
       "      <td>NaN</td>\n",
       "    </tr>\n",
       "    <tr>\n",
       "      <th>1</th>\n",
       "      <td>commonwealth  vs.  george philbrook.</td>\n",
       "      <td>homicide. evidence, prior violent conduct, sta...</td>\n",
       "      <td>the defendant was convicted of murder in the f...</td>\n",
       "      <td>criminal</td>\n",
       "      <td>NaN</td>\n",
       "    </tr>\n",
       "    <tr>\n",
       "      <th>2</th>\n",
       "      <td>linda s. bowers  vs.  p. wile's, inc.</td>\n",
       "      <td>negligence, retailer. notice. practice, civil,...</td>\n",
       "      <td>in this case we are called upon to determine w...</td>\n",
       "      <td>civil</td>\n",
       "      <td>NaN</td>\n",
       "    </tr>\n",
       "    <tr>\n",
       "      <th>3</th>\n",
       "      <td>commonwealth  vs.  jared abdallah.</td>\n",
       "      <td>constitutional law, search and seizure. search...</td>\n",
       "      <td>after causing a disturbance, the defendant was...</td>\n",
       "      <td>criminal</td>\n",
       "      <td>NaN</td>\n",
       "    </tr>\n",
       "    <tr>\n",
       "      <th>4</th>\n",
       "      <td>commonwealth  vs.  robert d. wade.</td>\n",
       "      <td>amended october 28, 2016deoxyribonucleic acid....</td>\n",
       "      <td>this case requires us to decide whether the pe...</td>\n",
       "      <td>criminal</td>\n",
       "      <td>NaN</td>\n",
       "    </tr>\n",
       "  </tbody>\n",
       "</table>\n",
       "</div>"
      ],
      "text/plain": [
       "                                   cases  \\\n",
       "0   commonwealth  vs.  admilson resende.   \n",
       "1   commonwealth  vs.  george philbrook.   \n",
       "2  linda s. bowers  vs.  p. wile's, inc.   \n",
       "3     commonwealth  vs.  jared abdallah.   \n",
       "4     commonwealth  vs.  robert d. wade.   \n",
       "\n",
       "                                            headnote  \\\n",
       "0  controlled substances. constitutional law, ple...   \n",
       "1  homicide. evidence, prior violent conduct, sta...   \n",
       "2  negligence, retailer. notice. practice, civil,...   \n",
       "3  constitutional law, search and seizure. search...   \n",
       "4  amended october 28, 2016deoxyribonucleic acid....   \n",
       "\n",
       "                                                text      type caseid  \n",
       "0  the present case is the most recent in a serie...  criminal    NaN  \n",
       "1  the defendant was convicted of murder in the f...  criminal    NaN  \n",
       "2  in this case we are called upon to determine w...     civil    NaN  \n",
       "3  after causing a disturbance, the defendant was...  criminal    NaN  \n",
       "4  this case requires us to decide whether the pe...  criminal    NaN  "
      ]
     },
     "execution_count": 6,
     "metadata": {},
     "output_type": "execute_result"
    }
   ],
   "source": [
    "sjc_draft.head()"
   ]
  },
  {
   "cell_type": "code",
   "execution_count": 7,
   "metadata": {},
   "outputs": [
    {
     "data": {
      "text/plain": [
       "(646, 5)"
      ]
     },
     "execution_count": 7,
     "metadata": {},
     "output_type": "execute_result"
    }
   ],
   "source": [
    "sjc_draft.shape"
   ]
  },
  {
   "cell_type": "code",
   "execution_count": 8,
   "metadata": {},
   "outputs": [
    {
     "data": {
      "text/plain": [
       "(646, 4)"
      ]
     },
     "execution_count": 8,
     "metadata": {},
     "output_type": "execute_result"
    }
   ],
   "source": [
    "appeal_draft.shape"
   ]
  },
  {
   "cell_type": "code",
   "execution_count": 9,
   "metadata": {},
   "outputs": [],
   "source": [
    "civil_cases = appeal_draft.loc[appeal_draft['type'] == \"civil\"]"
   ]
  },
  {
   "cell_type": "code",
   "execution_count": 10,
   "metadata": {},
   "outputs": [
    {
     "data": {
      "text/plain": [
       "(154, 4)"
      ]
     },
     "execution_count": 10,
     "metadata": {},
     "output_type": "execute_result"
    }
   ],
   "source": [
    "civil_cases.shape #154 civil cases"
   ]
  },
  {
   "cell_type": "code",
   "execution_count": 11,
   "metadata": {},
   "outputs": [
    {
     "data": {
      "text/html": [
       "<div>\n",
       "<style scoped>\n",
       "    .dataframe tbody tr th:only-of-type {\n",
       "        vertical-align: middle;\n",
       "    }\n",
       "\n",
       "    .dataframe tbody tr th {\n",
       "        vertical-align: top;\n",
       "    }\n",
       "\n",
       "    .dataframe thead th {\n",
       "        text-align: right;\n",
       "    }\n",
       "</style>\n",
       "<table border=\"1\" class=\"dataframe\">\n",
       "  <thead>\n",
       "    <tr style=\"text-align: right;\">\n",
       "      <th></th>\n",
       "      <th>cases</th>\n",
       "      <th>headnote</th>\n",
       "      <th>text</th>\n",
       "      <th>type</th>\n",
       "    </tr>\n",
       "  </thead>\n",
       "  <tbody>\n",
       "    <tr>\n",
       "      <th>2</th>\n",
       "      <td>linda s. bowers  vs.  p. wile's, inc.</td>\n",
       "      <td>negligence, retailer. notice. practice, civil,...</td>\n",
       "      <td>in this case we are called upon to determine w...</td>\n",
       "      <td>civil</td>\n",
       "    </tr>\n",
       "    <tr>\n",
       "      <th>5</th>\n",
       "      <td>marcia d. bellermann &amp; othersvs.  fitchburg ga...</td>\n",
       "      <td>electric company. public utilities, electric c...</td>\n",
       "      <td>in bellermann v. fitchburg gas &amp; elec. light c...</td>\n",
       "      <td>civil</td>\n",
       "    </tr>\n",
       "    <tr>\n",
       "      <th>13</th>\n",
       "      <td>suffolk construction company, inc.  vs.  bench...</td>\n",
       "      <td>uniform commercial code, secured creditor. pra...</td>\n",
       "      <td>in reading co-operative bank v. suffolk constr...</td>\n",
       "      <td>civil</td>\n",
       "    </tr>\n",
       "    <tr>\n",
       "      <th>17</th>\n",
       "      <td>engie gas &amp; lng llcvs.  department of public u...</td>\n",
       "      <td>department of public utilities. practice, civi...</td>\n",
       "      <td>these consolidated appeals are before us on a ...</td>\n",
       "      <td>civil</td>\n",
       "    </tr>\n",
       "    <tr>\n",
       "      <th>19</th>\n",
       "      <td>robert maclaurin&amp; anothervs.  city of holyoke ...</td>\n",
       "      <td>fire prevention. practice, civil, action in na...</td>\n",
       "      <td>we are called upon in these consolidated cases...</td>\n",
       "      <td>civil</td>\n",
       "    </tr>\n",
       "  </tbody>\n",
       "</table>\n",
       "</div>"
      ],
      "text/plain": [
       "                                                cases  \\\n",
       "2               linda s. bowers  vs.  p. wile's, inc.   \n",
       "5   marcia d. bellermann & othersvs.  fitchburg ga...   \n",
       "13  suffolk construction company, inc.  vs.  bench...   \n",
       "17  engie gas & lng llcvs.  department of public u...   \n",
       "19  robert maclaurin& anothervs.  city of holyoke ...   \n",
       "\n",
       "                                             headnote  \\\n",
       "2   negligence, retailer. notice. practice, civil,...   \n",
       "5   electric company. public utilities, electric c...   \n",
       "13  uniform commercial code, secured creditor. pra...   \n",
       "17  department of public utilities. practice, civi...   \n",
       "19  fire prevention. practice, civil, action in na...   \n",
       "\n",
       "                                                 text   type  \n",
       "2   in this case we are called upon to determine w...  civil  \n",
       "5   in bellermann v. fitchburg gas & elec. light c...  civil  \n",
       "13  in reading co-operative bank v. suffolk constr...  civil  \n",
       "17  these consolidated appeals are before us on a ...  civil  \n",
       "19  we are called upon in these consolidated cases...  civil  "
      ]
     },
     "execution_count": 11,
     "metadata": {},
     "output_type": "execute_result"
    }
   ],
   "source": [
    "civil_cases.head()"
   ]
  },
  {
   "cell_type": "code",
   "execution_count": 12,
   "metadata": {},
   "outputs": [],
   "source": [
    "cases_nan = sjc_draft.loc[sjc_draft['type'].isnull()]"
   ]
  },
  {
   "cell_type": "code",
   "execution_count": 13,
   "metadata": {},
   "outputs": [
    {
     "data": {
      "text/plain": [
       "(139, 5)"
      ]
     },
     "execution_count": 13,
     "metadata": {},
     "output_type": "execute_result"
    }
   ],
   "source": [
    "cases_nan.shape"
   ]
  },
  {
   "cell_type": "code",
   "execution_count": null,
   "metadata": {},
   "outputs": [],
   "source": []
  }
 ],
 "metadata": {
  "kernelspec": {
   "display_name": "Python 3",
   "language": "python",
   "name": "python3"
  },
  "language_info": {
   "codemirror_mode": {
    "name": "ipython",
    "version": 3
   },
   "file_extension": ".py",
   "mimetype": "text/x-python",
   "name": "python",
   "nbconvert_exporter": "python",
   "pygments_lexer": "ipython3",
   "version": "3.7.1"
  }
 },
 "nbformat": 4,
 "nbformat_minor": 2
}
