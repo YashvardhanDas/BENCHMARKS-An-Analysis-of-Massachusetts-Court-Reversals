{
 "cells": [
  {
   "cell_type": "code",
   "execution_count": 1,
   "metadata": {},
   "outputs": [],
   "source": [
    "import numpy as np \n",
    "import pandas as pd \n",
    "import matplotlib.pyplot as plt \n",
    "from sklearn.preprocessing import LabelEncoder"
   ]
  },
  {
   "cell_type": "code",
   "execution_count": 2,
   "metadata": {},
   "outputs": [],
   "source": [
    "appeal_draft = pd.read_csv('appeal_draft.csv')\n",
    "sjc_draft = pd.read_csv('sjc_draft.csv')"
   ]
  },
  {
   "cell_type": "code",
   "execution_count": 3,
   "metadata": {},
   "outputs": [
    {
     "data": {
      "text/html": [
       "<div>\n",
       "<style scoped>\n",
       "    .dataframe tbody tr th:only-of-type {\n",
       "        vertical-align: middle;\n",
       "    }\n",
       "\n",
       "    .dataframe tbody tr th {\n",
       "        vertical-align: top;\n",
       "    }\n",
       "\n",
       "    .dataframe thead th {\n",
       "        text-align: right;\n",
       "    }\n",
       "</style>\n",
       "<table border=\"1\" class=\"dataframe\">\n",
       "  <thead>\n",
       "    <tr style=\"text-align: right;\">\n",
       "      <th></th>\n",
       "      <th>cases</th>\n",
       "      <th>headnote</th>\n",
       "      <th>text</th>\n",
       "      <th>type</th>\n",
       "    </tr>\n",
       "  </thead>\n",
       "  <tbody>\n",
       "    <tr>\n",
       "      <th>0</th>\n",
       "      <td>commonwealth  vs.  admilson resende.</td>\n",
       "      <td>controlled substances. constitutional law, ple...</td>\n",
       "      <td>the present case is the most recent in a serie...</td>\n",
       "      <td>criminal</td>\n",
       "    </tr>\n",
       "    <tr>\n",
       "      <th>1</th>\n",
       "      <td>commonwealth  vs.  george philbrook.</td>\n",
       "      <td>homicide. evidence, prior violent conduct, sta...</td>\n",
       "      <td>the defendant was convicted of murder in the f...</td>\n",
       "      <td>criminal</td>\n",
       "    </tr>\n",
       "    <tr>\n",
       "      <th>2</th>\n",
       "      <td>linda s. bowers  vs.  p. wile's, inc.</td>\n",
       "      <td>negligence, retailer. notice. practice, civil,...</td>\n",
       "      <td>in this case we are called upon to determine w...</td>\n",
       "      <td>civil</td>\n",
       "    </tr>\n",
       "    <tr>\n",
       "      <th>3</th>\n",
       "      <td>commonwealth  vs.  jared abdallah.</td>\n",
       "      <td>constitutional law, search and seizure. search...</td>\n",
       "      <td>after causing a disturbance, the defendant was...</td>\n",
       "      <td>criminal</td>\n",
       "    </tr>\n",
       "    <tr>\n",
       "      <th>4</th>\n",
       "      <td>commonwealth  vs.  robert d. wade.</td>\n",
       "      <td>amended october 28, 2016deoxyribonucleic acid....</td>\n",
       "      <td>this case requires us to decide whether the pe...</td>\n",
       "      <td>criminal</td>\n",
       "    </tr>\n",
       "  </tbody>\n",
       "</table>\n",
       "</div>"
      ],
      "text/plain": [
       "                                   cases  \\\n",
       "0   commonwealth  vs.  admilson resende.   \n",
       "1   commonwealth  vs.  george philbrook.   \n",
       "2  linda s. bowers  vs.  p. wile's, inc.   \n",
       "3     commonwealth  vs.  jared abdallah.   \n",
       "4     commonwealth  vs.  robert d. wade.   \n",
       "\n",
       "                                            headnote  \\\n",
       "0  controlled substances. constitutional law, ple...   \n",
       "1  homicide. evidence, prior violent conduct, sta...   \n",
       "2  negligence, retailer. notice. practice, civil,...   \n",
       "3  constitutional law, search and seizure. search...   \n",
       "4  amended october 28, 2016deoxyribonucleic acid....   \n",
       "\n",
       "                                                text      type  \n",
       "0  the present case is the most recent in a serie...  criminal  \n",
       "1  the defendant was convicted of murder in the f...  criminal  \n",
       "2  in this case we are called upon to determine w...     civil  \n",
       "3  after causing a disturbance, the defendant was...  criminal  \n",
       "4  this case requires us to decide whether the pe...  criminal  "
      ]
     },
     "execution_count": 3,
     "metadata": {},
     "output_type": "execute_result"
    }
   ],
   "source": [
    "appeal_draft.head()"
   ]
  },
  {
   "cell_type": "code",
   "execution_count": 4,
   "metadata": {},
   "outputs": [
    {
     "data": {
      "text/html": [
       "<div>\n",
       "<style scoped>\n",
       "    .dataframe tbody tr th:only-of-type {\n",
       "        vertical-align: middle;\n",
       "    }\n",
       "\n",
       "    .dataframe tbody tr th {\n",
       "        vertical-align: top;\n",
       "    }\n",
       "\n",
       "    .dataframe thead th {\n",
       "        text-align: right;\n",
       "    }\n",
       "</style>\n",
       "<table border=\"1\" class=\"dataframe\">\n",
       "  <thead>\n",
       "    <tr style=\"text-align: right;\">\n",
       "      <th></th>\n",
       "      <th>cases</th>\n",
       "      <th>headnote</th>\n",
       "      <th>text</th>\n",
       "      <th>type</th>\n",
       "      <th>caseid</th>\n",
       "    </tr>\n",
       "  </thead>\n",
       "  <tbody>\n",
       "    <tr>\n",
       "      <th>0</th>\n",
       "      <td>commonwealth  vs.  admilson resende.</td>\n",
       "      <td>controlled substances. constitutional law, ple...</td>\n",
       "      <td>the present case is the most recent in a serie...</td>\n",
       "      <td>criminal</td>\n",
       "      <td>NaN</td>\n",
       "    </tr>\n",
       "    <tr>\n",
       "      <th>1</th>\n",
       "      <td>commonwealth  vs.  george philbrook.</td>\n",
       "      <td>homicide. evidence, prior violent conduct, sta...</td>\n",
       "      <td>the defendant was convicted of murder in the f...</td>\n",
       "      <td>criminal</td>\n",
       "      <td>NaN</td>\n",
       "    </tr>\n",
       "    <tr>\n",
       "      <th>2</th>\n",
       "      <td>linda s. bowers  vs.  p. wile's, inc.</td>\n",
       "      <td>negligence, retailer. notice. practice, civil,...</td>\n",
       "      <td>in this case we are called upon to determine w...</td>\n",
       "      <td>civil</td>\n",
       "      <td>NaN</td>\n",
       "    </tr>\n",
       "    <tr>\n",
       "      <th>3</th>\n",
       "      <td>commonwealth  vs.  jared abdallah.</td>\n",
       "      <td>constitutional law, search and seizure. search...</td>\n",
       "      <td>after causing a disturbance, the defendant was...</td>\n",
       "      <td>criminal</td>\n",
       "      <td>NaN</td>\n",
       "    </tr>\n",
       "    <tr>\n",
       "      <th>4</th>\n",
       "      <td>commonwealth  vs.  robert d. wade.</td>\n",
       "      <td>amended october 28, 2016deoxyribonucleic acid....</td>\n",
       "      <td>this case requires us to decide whether the pe...</td>\n",
       "      <td>criminal</td>\n",
       "      <td>NaN</td>\n",
       "    </tr>\n",
       "  </tbody>\n",
       "</table>\n",
       "</div>"
      ],
      "text/plain": [
       "                                   cases  \\\n",
       "0   commonwealth  vs.  admilson resende.   \n",
       "1   commonwealth  vs.  george philbrook.   \n",
       "2  linda s. bowers  vs.  p. wile's, inc.   \n",
       "3     commonwealth  vs.  jared abdallah.   \n",
       "4     commonwealth  vs.  robert d. wade.   \n",
       "\n",
       "                                            headnote  \\\n",
       "0  controlled substances. constitutional law, ple...   \n",
       "1  homicide. evidence, prior violent conduct, sta...   \n",
       "2  negligence, retailer. notice. practice, civil,...   \n",
       "3  constitutional law, search and seizure. search...   \n",
       "4  amended october 28, 2016deoxyribonucleic acid....   \n",
       "\n",
       "                                                text      type caseid  \n",
       "0  the present case is the most recent in a serie...  criminal    NaN  \n",
       "1  the defendant was convicted of murder in the f...  criminal    NaN  \n",
       "2  in this case we are called upon to determine w...     civil    NaN  \n",
       "3  after causing a disturbance, the defendant was...  criminal    NaN  \n",
       "4  this case requires us to decide whether the pe...  criminal    NaN  "
      ]
     },
     "execution_count": 4,
     "metadata": {},
     "output_type": "execute_result"
    }
   ],
   "source": [
    "sjc_draft.head()"
   ]
  },
  {
   "cell_type": "code",
   "execution_count": 5,
   "metadata": {},
   "outputs": [
    {
     "data": {
      "text/plain": [
       "(646, 5)"
      ]
     },
     "execution_count": 5,
     "metadata": {},
     "output_type": "execute_result"
    }
   ],
   "source": [
    "sjc_draft.shape"
   ]
  },
  {
   "cell_type": "code",
   "execution_count": 6,
   "metadata": {},
   "outputs": [
    {
     "data": {
      "text/plain": [
       "(646, 4)"
      ]
     },
     "execution_count": 6,
     "metadata": {},
     "output_type": "execute_result"
    }
   ],
   "source": [
    "appeal_draft.shape"
   ]
  },
  {
   "cell_type": "code",
   "execution_count": 8,
   "metadata": {},
   "outputs": [],
   "source": [
    "civil_cases = appeal_draft.loc[appeal_draft['type'] == \"civil\"]"
   ]
  },
  {
   "cell_type": "code",
   "execution_count": 9,
   "metadata": {},
   "outputs": [
    {
     "data": {
      "text/plain": [
       "(154, 4)"
      ]
     },
     "execution_count": 9,
     "metadata": {},
     "output_type": "execute_result"
    }
   ],
   "source": [
    "civil_cases.shape #154 civil cases"
   ]
  },
  {
   "cell_type": "code",
   "execution_count": 10,
   "metadata": {},
   "outputs": [
    {
     "data": {
      "text/html": [
       "<div>\n",
       "<style scoped>\n",
       "    .dataframe tbody tr th:only-of-type {\n",
       "        vertical-align: middle;\n",
       "    }\n",
       "\n",
       "    .dataframe tbody tr th {\n",
       "        vertical-align: top;\n",
       "    }\n",
       "\n",
       "    .dataframe thead th {\n",
       "        text-align: right;\n",
       "    }\n",
       "</style>\n",
       "<table border=\"1\" class=\"dataframe\">\n",
       "  <thead>\n",
       "    <tr style=\"text-align: right;\">\n",
       "      <th></th>\n",
       "      <th>cases</th>\n",
       "      <th>headnote</th>\n",
       "      <th>text</th>\n",
       "      <th>type</th>\n",
       "    </tr>\n",
       "  </thead>\n",
       "  <tbody>\n",
       "    <tr>\n",
       "      <th>2</th>\n",
       "      <td>linda s. bowers  vs.  p. wile's, inc.</td>\n",
       "      <td>negligence, retailer. notice. practice, civil,...</td>\n",
       "      <td>in this case we are called upon to determine w...</td>\n",
       "      <td>civil</td>\n",
       "    </tr>\n",
       "    <tr>\n",
       "      <th>5</th>\n",
       "      <td>marcia d. bellermann &amp; othersvs.  fitchburg ga...</td>\n",
       "      <td>electric company. public utilities, electric c...</td>\n",
       "      <td>in bellermann v. fitchburg gas &amp; elec. light c...</td>\n",
       "      <td>civil</td>\n",
       "    </tr>\n",
       "    <tr>\n",
       "      <th>13</th>\n",
       "      <td>suffolk construction company, inc.  vs.  bench...</td>\n",
       "      <td>uniform commercial code, secured creditor. pra...</td>\n",
       "      <td>in reading co-operative bank v. suffolk constr...</td>\n",
       "      <td>civil</td>\n",
       "    </tr>\n",
       "    <tr>\n",
       "      <th>17</th>\n",
       "      <td>engie gas &amp; lng llcvs.  department of public u...</td>\n",
       "      <td>department of public utilities. practice, civi...</td>\n",
       "      <td>these consolidated appeals are before us on a ...</td>\n",
       "      <td>civil</td>\n",
       "    </tr>\n",
       "    <tr>\n",
       "      <th>19</th>\n",
       "      <td>robert maclaurin&amp; anothervs.  city of holyoke ...</td>\n",
       "      <td>fire prevention. practice, civil, action in na...</td>\n",
       "      <td>we are called upon in these consolidated cases...</td>\n",
       "      <td>civil</td>\n",
       "    </tr>\n",
       "  </tbody>\n",
       "</table>\n",
       "</div>"
      ],
      "text/plain": [
       "                                                cases  \\\n",
       "2               linda s. bowers  vs.  p. wile's, inc.   \n",
       "5   marcia d. bellermann & othersvs.  fitchburg ga...   \n",
       "13  suffolk construction company, inc.  vs.  bench...   \n",
       "17  engie gas & lng llcvs.  department of public u...   \n",
       "19  robert maclaurin& anothervs.  city of holyoke ...   \n",
       "\n",
       "                                             headnote  \\\n",
       "2   negligence, retailer. notice. practice, civil,...   \n",
       "5   electric company. public utilities, electric c...   \n",
       "13  uniform commercial code, secured creditor. pra...   \n",
       "17  department of public utilities. practice, civi...   \n",
       "19  fire prevention. practice, civil, action in na...   \n",
       "\n",
       "                                                 text   type  \n",
       "2   in this case we are called upon to determine w...  civil  \n",
       "5   in bellermann v. fitchburg gas & elec. light c...  civil  \n",
       "13  in reading co-operative bank v. suffolk constr...  civil  \n",
       "17  these consolidated appeals are before us on a ...  civil  \n",
       "19  we are called upon in these consolidated cases...  civil  "
      ]
     },
     "execution_count": 10,
     "metadata": {},
     "output_type": "execute_result"
    }
   ],
   "source": [
    "civil_cases.head()"
   ]
  },
  {
   "cell_type": "code",
   "execution_count": 22,
   "metadata": {},
   "outputs": [],
   "source": [
    "cases_nan = sjc_draft.loc[sjc_draft['type'].isnull()]"
   ]
  },
  {
   "cell_type": "code",
   "execution_count": 23,
   "metadata": {},
   "outputs": [
    {
     "data": {
      "text/plain": [
       "(139, 5)"
      ]
     },
     "execution_count": 23,
     "metadata": {},
     "output_type": "execute_result"
    }
   ],
   "source": [
    "cases_nan.shape"
   ]
  },
  {
   "cell_type": "code",
   "execution_count": 24,
   "metadata": {},
   "outputs": [
    {
     "data": {
      "text/plain": [
       "8      elaine k. murray & anothervs.  department of c...\n",
       "9      curt f. pfannenstiehl  vs.  diane l. pfannenst...\n",
       "14     the first marblehead corporation & anothervs. ...\n",
       "29                    limoliner, inc.  vs.  dattco, inc.\n",
       "43                 karen partanen  vs.  julie gallagher.\n",
       "56                  commonwealth  vs.  randy a. leblanc.\n",
       "57     verizon new england inc.  vs.  board of assess...\n",
       "58     massachusetts insurers insolvency fund  vs.  b...\n",
       "61     greg t. schubert   vs.  committee for public c...\n",
       "64     mark marchand  vs.  department of correction &...\n",
       "65                   ricardo barbosa  vs.  commonwealth.\n",
       "66     evelyn j. eresian   vs.  merrill lynch credit ...\n",
       "68                  commonwealth  vs.  gilmar baratieri.\n",
       "69                 in the matter of valeriano diviacchi.\n",
       "72     james r. degiacomo, trustee,vs.  city of quinc...\n",
       "74         clifford e. george  vs.  jacquelyn a. george.\n",
       "79     retirement board of stoneham  vs.  contributor...\n",
       "86                      commonwealth  vs.  calvin horne.\n",
       "90        genentech, inc.  vs.  commissioner of revenue.\n",
       "97                commonwealth  vs.  adalberto martinez.\n",
       "100            jacquelyn d. snow  vs.  winthrop e. snow.\n",
       "118    michael j. ferri, trustee,& othersvs.  nancy p...\n",
       "121    shrine of our lady of la salette inc.  vs.  bo...\n",
       "132                   commonwealth  vs.  douglas garcia.\n",
       "133    renee perullo  vs.  advisory committee on pers...\n",
       "134                daniel d. tavares  vs.  commonwealth.\n",
       "135                    commonwealth  vs.  donald dustin.\n",
       "136                            matter of evan a. greene.\n",
       "138    elnedis a. moronta  vs.  nationstar mortgage, ...\n",
       "139    joan e. oggiani  vs.  chief justice of the tri...\n",
       "                             ...                        \n",
       "449                     owen mccants  vs.  commonwealth.\n",
       "450            enrique perez-acevedo  vs.  commonwealth.\n",
       "451                      jack saade  vs.  matthew price.\n",
       "452    jeremy p. robin  vs.  commonwealth.sandon gons...\n",
       "453                   thomas quigley  vs.  commonwealth.\n",
       "454    mary costello& anothervs.  merrill lynch credi...\n",
       "455    bahig bishay & anothervs.  merrill lynch credi...\n",
       "457                   anthony j. dew  vs.  commonwealth.\n",
       "459    dennis sena  vs.  commonwealth.bahig bishay & ...\n",
       "490    maria bellalta & anothervs.  zoning board of a...\n",
       "499    craft beer guild, llcvs.  alcoholic beverages ...\n",
       "502           layne c. connor  vs.  william p. benedict.\n",
       "511                    pedro vasquez  vs.  commonwealth.\n",
       "516    ben branch & othersvs.  commonwealth employmen...\n",
       "520    timothy e. cichocki & anothervs.  town of reho...\n",
       "522                   antonio garcia  vs.  commonwealth.\n",
       "523    michael thomann  vs.  board of registration of...\n",
       "530    jian jiang  vs.  qilun liu.james peter kyricop...\n",
       "544                daniel d. tavares  vs.  commonwealth.\n",
       "546    christine hilton & othersvs.  central division...\n",
       "547    marjorie y. evans  vs.  federal home loan mort...\n",
       "559    laurita sullivan& anothervs.  sleepy's llc & a...\n",
       "574                    commonwealth  vs.  suzanne hardy.\n",
       "595    massachusetts fine wines & spirits, llcvs.  al...\n",
       "612                      john cooper  vs.  cvs pharmacy.\n",
       "613                  commonwealth  vs.  scott m. zagwyn.\n",
       "614    takiyah d. white  vs.  chief justice of the bo...\n",
       "624    veolia energy boston, inc.  vs.  board of asse...\n",
       "626    john doe, sex offender registry board no. 2365...\n",
       "636    board of higher education  vs.  commonwealth e...\n",
       "Name: cases, Length: 139, dtype: object"
      ]
     },
     "execution_count": 24,
     "metadata": {},
     "output_type": "execute_result"
    }
   ],
   "source": [
    "cases_nan['cases']"
   ]
  },
  {
   "cell_type": "code",
   "execution_count": null,
   "metadata": {},
   "outputs": [],
   "source": []
  }
 ],
 "metadata": {
  "kernelspec": {
   "display_name": "Python 3",
   "language": "python",
   "name": "python3"
  },
  "language_info": {
   "codemirror_mode": {
    "name": "ipython",
    "version": 3
   },
   "file_extension": ".py",
   "mimetype": "text/x-python",
   "name": "python",
   "nbconvert_exporter": "python",
   "pygments_lexer": "ipython3",
   "version": "3.6.5"
  }
 },
 "nbformat": 4,
 "nbformat_minor": 2
}
